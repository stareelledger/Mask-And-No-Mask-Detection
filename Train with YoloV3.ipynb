{
 "cells": [
  {
   "cell_type": "markdown",
   "metadata": {
    "colab_type": "text",
    "id": "wHBQcQzjD6HJ"
   },
   "source": [
    "**Connect google drive**"
   ]
  },
  {
   "cell_type": "code",
   "execution_count": 0,
   "metadata": {
    "colab": {},
    "colab_type": "code",
    "id": "bwp6NIrsZZFP"
   },
   "outputs": [],
   "source": [
    "# Check if NVIDIA GPU is enabled\n",
    "!nvidia-smi"
   ]
  },
  {
   "cell_type": "code",
   "execution_count": 0,
   "metadata": {
    "colab": {},
    "colab_type": "code",
    "id": "9e9ZW3sqMEPO"
   },
   "outputs": [],
   "source": [
    "from google.colab import drive\n",
    "drive.mount('/content/gdrive')\n",
    "!ln -s /content/gdrive/My\\ Drive/ /mydrive\n",
    "!ls /mydrive"
   ]
  },
  {
   "cell_type": "markdown",
   "metadata": {
    "colab_type": "text",
    "id": "t7utW4in4azV"
   },
   "source": [
    "**1) Clone, configure & compile Darknet**\n",
    "\n"
   ]
  },
  {
   "cell_type": "code",
   "execution_count": 0,
   "metadata": {
    "colab": {},
    "colab_type": "code",
    "id": "e03U7Zi-qMr2"
   },
   "outputs": [],
   "source": [
    "# Clone\n",
    "!git clone https://github.com/AlexeyAB/darknet"
   ]
  },
  {
   "cell_type": "code",
   "execution_count": 0,
   "metadata": {
    "colab": {},
    "colab_type": "code",
    "id": "7hzfEWSuONhz"
   },
   "outputs": [],
   "source": [
    "# Configure\n",
    "%cd darknet\n",
    "!sed -i 's/OPENCV=0/OPENCV=1/' Makefile\n",
    "!sed -i 's/GPU=0/GPU=1/' Makefile\n",
    "!sed -i 's/CUDNN=0/CUDNN=1/' Makefile"
   ]
  },
  {
   "cell_type": "code",
   "execution_count": 0,
   "metadata": {
    "colab": {},
    "colab_type": "code",
    "id": "EBBokOq5OOA5"
   },
   "outputs": [],
   "source": [
    "# Compile\n",
    "!make"
   ]
  },
  {
   "cell_type": "markdown",
   "metadata": {
    "colab_type": "text",
    "id": "gAOLtA_qI9vF"
   },
   "source": [
    "**2) Configure yolov3.cfg file**"
   ]
  },
  {
   "cell_type": "code",
   "execution_count": 0,
   "metadata": {
    "colab": {},
    "colab_type": "code",
    "id": "s-RpscgU853t"
   },
   "outputs": [],
   "source": [
    "# Make a copy of yolov3.cfg\n",
    "!cp cfg/yolov3.cfg cfg/yolov3_training.cfg"
   ]
  },
  {
   "cell_type": "code",
   "execution_count": 0,
   "metadata": {
    "colab": {},
    "colab_type": "code",
    "id": "5ZgVQRop_vwR"
   },
   "outputs": [],
   "source": [
    "# Change lines in yolov3.cfg file\n",
    "!sed -i 's/batch=1/batch=64/' cfg/yolov3_training.cfg\n",
    "!sed -i 's/subdivisions=1/subdivisions=16/' cfg/yolov3_training.cfg\n",
    "!sed -i 's/max_batches = 500200/max_batches = 6000/' cfg/yolov3_training.cfg\n",
    "!sed -i '610 s@classes=80@classes=3@' cfg/yolov3_training.cfg\n",
    "!sed -i '696 s@classes=80@classes=3@' cfg/yolov3_training.cfg\n",
    "!sed -i '783 s@classes=80@classes=3@' cfg/yolov3_training.cfg\n",
    "!sed -i '603 s@filters=255@filters=24@' cfg/yolov3_training.cfg\n",
    "!sed -i '689 s@filters=255@filters=24@' cfg/yolov3_training.cfg\n",
    "!sed -i '776 s@filters=255@filters=24@' cfg/yolov3_training.cfg"
   ]
  },
  {
   "cell_type": "markdown",
   "metadata": {
    "colab_type": "text",
    "id": "88p9BIjkPTRv"
   },
   "source": [
    "**3) Create .names and .data files**"
   ]
  },
  {
   "cell_type": "code",
   "execution_count": 0,
   "metadata": {
    "colab": {},
    "colab_type": "code",
    "id": "7AIBw_psIclz"
   },
   "outputs": [],
   "source": [
    "!echo -e 'Wearing Mask\\n2nd item\\n3rd item' > data/obj.names\n",
    "!echo -e 'classes= 3\\ntrain  = data/train.txt\\nvalid  = data/test.txt\\nnames = data/obj.names\\nbackup = /mydrive/yolov3' > data/obj.data"
   ]
  },
  {
   "cell_type": "markdown",
   "metadata": {
    "colab_type": "text",
    "id": "dqFFqbUJMtN-"
   },
   "source": [
    "**4) Save yolov3_training.cfg and obj.names files in Google drive**"
   ]
  },
  {
   "cell_type": "code",
   "execution_count": 0,
   "metadata": {
    "colab": {},
    "colab_type": "code",
    "id": "67o96gV7L0Uv"
   },
   "outputs": [],
   "source": [
    "!cp cfg/yolov3_training.cfg /mydrive/yolov3/yolov3_testing.cfg\n",
    "!cp data/obj.names /mydrive/yolov3/classes.txt"
   ]
  },
  {
   "cell_type": "markdown",
   "metadata": {
    "colab_type": "text",
    "id": "9RbVKJjoncW2"
   },
   "source": [
    "**5) Create a folder and unzip image dataset**"
   ]
  },
  {
   "cell_type": "code",
   "execution_count": 0,
   "metadata": {
    "colab": {},
    "colab_type": "code",
    "id": "eZlkzFMW7I_N"
   },
   "outputs": [],
   "source": [
    "!mkdir data/obj\n",
    "!unzip /mydrive/yolov3/images.zip -d data/obj"
   ]
  },
  {
   "cell_type": "markdown",
   "metadata": {
    "colab_type": "text",
    "id": "ogBdNwRaZ50U"
   },
   "source": [
    "**6) Create train.txt file**"
   ]
  },
  {
   "cell_type": "code",
   "execution_count": 0,
   "metadata": {
    "colab": {},
    "colab_type": "code",
    "id": "DGUyXxeYX0IP"
   },
   "outputs": [],
   "source": [
    "import glob\n",
    "images_list = glob.glob(\"data/obj/*.jpg\")\n",
    "with open(\"data/train.txt\", \"w\") as f:\n",
    "    f.write(\"\\n\".join(images_list))"
   ]
  },
  {
   "cell_type": "markdown",
   "metadata": {
    "colab_type": "text",
    "id": "084L-LLPqxQe"
   },
   "source": [
    "**7) Download pre-trained weights for the convolutional layers file**"
   ]
  },
  {
   "cell_type": "code",
   "execution_count": 0,
   "metadata": {
    "colab": {},
    "colab_type": "code",
    "id": "jhb5nZvsQ_96"
   },
   "outputs": [],
   "source": [
    "!wget https://pjreddie.com/media/files/darknet53.conv.74"
   ]
  },
  {
   "cell_type": "markdown",
   "metadata": {
    "colab_type": "text",
    "id": "CeSiuLrXoAjc"
   },
   "source": [
    "**8) Start training**"
   ]
  },
  {
   "cell_type": "code",
   "execution_count": 0,
   "metadata": {
    "colab": {},
    "colab_type": "code",
    "id": "S3_g3jclUzMm"
   },
   "outputs": [],
   "source": [
    "!./darknet detector train data/obj.data cfg/yolov3_training.cfg darknet53.conv.74 -dont_show\n",
    "# Uncomment below and comment above to re-start your training from last saved weights\n",
    "#!./darknet detector train data/obj.data cfg/yolov3_training.cfg /mydrive/yolov3/yolov3_training_last.weights -dont_show"
   ]
  }
 ],
 "metadata": {
  "accelerator": "GPU",
  "colab": {
   "collapsed_sections": [],
   "name": "Train_YoloV3_Multiple.ipynb",
   "provenance": []
  },
  "kernelspec": {
   "display_name": "Python 3",
   "language": "python",
   "name": "python3"
  },
  "language_info": {
   "codemirror_mode": {
    "name": "ipython",
    "version": 3
   },
   "file_extension": ".py",
   "mimetype": "text/x-python",
   "name": "python",
   "nbconvert_exporter": "python",
   "pygments_lexer": "ipython3",
   "version": "3.7.6"
  }
 },
 "nbformat": 4,
 "nbformat_minor": 1
}
